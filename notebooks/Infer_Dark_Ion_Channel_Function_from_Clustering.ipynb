{
 "cells": [
  {
   "cell_type": "markdown",
   "metadata": {},
   "source": [
    "# Infer Dark Ion Channel Function from Clustering\n",
    "This notebook will infer 'dark' Ion Channel (IC) function based on hierarchical clustering with kinases that have known functions. We will cluster ICs based on their expression in the CCLE. We will begin by importing required libraries and defining a few functions for later use. "
   ]
  },
  {
   "cell_type": "code",
   "execution_count": 1,
   "metadata": {
    "collapsed": true
   },
   "outputs": [],
   "source": [
    "import pandas as pd\n",
    "from clustergrammer_widget import *\n",
    "from scipy.spatial.distance import pdist, squareform\n",
    "net = Network()"
   ]
  },
  {
   "cell_type": "code",
   "execution_count": 2,
   "metadata": {
    "collapsed": true
   },
   "outputs": [],
   "source": [
    "gene_info = net.load_json_to_dict('../grant_pois/gene_info_with_dark.json')\n",
    "net.load_file('../hzome_data/my_CCLE_exp.txt')\n",
    "ccle = net.export_df()"
   ]
  },
  {
   "cell_type": "code",
   "execution_count": 3,
   "metadata": {
    "collapsed": true
   },
   "outputs": [],
   "source": [
    "def add_cats(gene_class, genes):\n",
    "    ''' Add categories to list of genes '''    \n",
    "    gene_title = class_titles[gene_class]\n",
    "    genes_cat = []\n",
    "    for inst_gene in genes:\n",
    "        inst_tuple = ()\n",
    "        inst_name = gene_title + ': ' + inst_gene\n",
    "        if inst_gene in gene_info[gene_class]['dark']:\n",
    "          inst_cat = 'Dark Gene: True'\n",
    "        else:\n",
    "          inst_cat = 'Dark Gene: False'\n",
    "        inst_tuple = (inst_name, inst_cat)\n",
    "        genes_cat.append( inst_tuple )\n",
    "    return genes_cat\n",
    "\n",
    "def filter_genes(ccle, gene_class):\n",
    "    ''' Filter DataFrame to selected gene class '''\n",
    "    ccle = ccle.transpose()\n",
    "    all_genes = ccle.columns.tolist()\n",
    "    all_gene_class = gene_info[gene_class]['all']\n",
    "    found_genes = sorted(list(set(all_genes).intersection(all_gene_class)))\n",
    "    ccle_filt = ccle[found_genes]\n",
    "    ccle_filt = ccle_filt.transpose()\n",
    "    return ccle_filt\n",
    "\n",
    "class_titles = {}\n",
    "class_titles['KIN'] = 'Kinases'\n",
    "class_titles['IC'] = 'Ion Channels'\n",
    "class_titles['GPCR'] = 'GPCRs'"
   ]
  },
  {
   "cell_type": "markdown",
   "metadata": {},
   "source": [
    "### Filter for ICs\n",
    "We will first filter the CCLE gene expression data for ICs. Then we will calculate a IC-IC similarity matrix based on CCLE expression and visualizze it using Clustergrammer. "
   ]
  },
  {
   "cell_type": "code",
   "execution_count": 4,
   "metadata": {
    "collapsed": true
   },
   "outputs": [],
   "source": [
    "ccle_ic = filter_genes(ccle, 'IC')\n",
    "net.load_df(ccle_ic)"
   ]
  },
  {
   "cell_type": "markdown",
   "metadata": {},
   "source": [
    "### Calculate Similarity Matrix"
   ]
  },
  {
   "cell_type": "code",
   "execution_count": 6,
   "metadata": {
    "collapsed": true
   },
   "outputs": [],
   "source": [
    "net.normalize(axis='row', norm_type='zscore', keep_orig=False)\n",
    "ccle_ic = net.export_df()"
   ]
  },
  {
   "cell_type": "code",
   "execution_count": 7,
   "metadata": {
    "collapsed": true
   },
   "outputs": [],
   "source": [
    "inst_dm = pdist(ccle_ic, metric='cosine')\n",
    "inst_dm = squareform(inst_dm)\n",
    "inst_dm = 1 - inst_dm\n",
    "sim_cutoff = 0.15\n",
    "inst_dm[ abs(inst_dm) < sim_cutoff] = 0"
   ]
  },
  {
   "cell_type": "markdown",
   "metadata": {},
   "source": [
    "### Visualize Similarity Matrix"
   ]
  },
  {
   "cell_type": "code",
   "execution_count": 9,
   "metadata": {
    "collapsed": false
   },
   "outputs": [
    {
     "data": {
      "application/vnd.jupyter.widget-view+json": {
       "model_id": "06ce40040b794934a55452ff28d1cad7"
      }
     },
     "metadata": {},
     "output_type": "display_data"
    }
   ],
   "source": [
    "genes = ccle_ic.index.tolist()\n",
    "genes_cat = add_cats('IC', genes)\n",
    "df_dm = pd.DataFrame(data=inst_dm, columns=genes_cat, index=genes_cat)\n",
    "net.load_df(df_dm)\n",
    "net.make_clust(views[])\n",
    "clustergrammer_widget(network=net.widget())"
   ]
  },
  {
   "cell_type": "markdown",
   "metadata": {},
   "source": [
    "We see about six well-defined clusters of IC with similar expresssion across the CCLE. I have included Enrichr links for each of the six clusters. Enrichment for terms from the KEGG 2016 and Wikipathways 2016 libraries appeared to show distinct functions for some of these clusters. For instance, Cluster-1 showed enrichment for Cardiac and muscle contraction pathways (see link 1) and Cluster-3 shoed enrichment for addiction related pathways (e.g Nicotine addiction, Serotonergic/Dopaminergic synapse function, and Hypothetical Network for Drug addiction). \n",
    "\n",
    "## Enrichr Links for Clusters identified from IC-CCLE Clustering\n",
    "* 1 https://amp.pharm.mssm.edu/Enrichr/enrich?dataset=1botj\n",
    "* 2 https://amp.pharm.mssm.edu/Enrichr/enrich?dataset=1botl\n",
    "* 3 https://amp.pharm.mssm.edu/Enrichr/enrich?dataset=1botm\n",
    "* 4 https://amp.pharm.mssm.edu/Enrichr/enrich?dataset=1bq99\n",
    "* 5 https://amp.pharm.mssm.edu/Enrichr/enrich?dataset=1botn\n",
    "* 6 https://amp.pharm.mssm.edu/Enrichr/enrich?dataset=1boto\n",
    "\n",
    "\n"
   ]
  },
  {
   "cell_type": "markdown",
   "metadata": {},
   "source": [
    "We are going to focus on the cluster in the middle of the heatmap (with 49 genes). Below we have extracted the names of these ICs from this cluster (using the interactive dendrogram):"
   ]
  },
  {
   "cell_type": "code",
   "execution_count": 11,
   "metadata": {
    "collapsed": false
   },
   "outputs": [
    {
     "data": {
      "application/vnd.jupyter.widget-view+json": {
       "model_id": "707472ae42d342e88f20e9730d0ba443"
      }
     },
     "metadata": {},
     "output_type": "display_data"
    }
   ],
   "source": [
    "clust_names = [\"ANO5\", \"BEST3\", \"CACNA1A\", \"CACNA1B\", \"CACNA1D\", \"CACNA1E\", \"CACNA2D1\", \"CACNA2D2\", \"CACNB2\", \"CACNB3\", \"CHRNA1\", \"CHRNA3\", \"CLCN5\", \"CNGA3\", \"GABRA5\", \"GABRB2\", \"GABRB3\", \"GABRG2\", \"GRIA1\", \"GRIA2\", \"GRIA4\", \"GRIK3\", \"GRIN3A\", \"HCN1\", \"HCN3\", \"HTR3A\", \"KCNA1\", \"KCNB1\", \"KCNB2\", \"KCNC1\", \"KCND2\", \"KCNG3\", \"KCNH2\", \"KCNH5\", \"KCNH6\", \"KCNH7\", \"KCNH8\", \"KCNIP4\", \"KCNJ11\", \"KCNJ3\", \"KCNJ6\", \"KCNK10\", \"KCNK3\", \"KCNT2\", \"SCN1A\", \"SCN2A\", \"SCN3A\", \"SCN3B\", \"SCN8A\"]\n",
    "clust_names_cat = add_cats('IC', clust_names)\n",
    "\n",
    "df_dm = df_dm[clust_names_cat]\n",
    "df_dm = df_dm.transpose()\n",
    "df_dm = df_dm[clust_names_cat]\n",
    "\n",
    "net.load_df(df_dm)\n",
    "net.make_clust(views=[])\n",
    "clustergrammer_widget(network=net.widget())"
   ]
  },
  {
   "cell_type": "code",
   "execution_count": null,
   "metadata": {
    "collapsed": true
   },
   "outputs": [],
   "source": []
  },
  {
   "cell_type": "markdown",
   "metadata": {},
   "source": []
  },
  {
   "cell_type": "markdown",
   "metadata": {},
   "source": []
  }
 ],
 "metadata": {
  "kernelspec": {
   "display_name": "Python [Root]",
   "language": "python",
   "name": "Python [Root]"
  },
  "language_info": {
   "codemirror_mode": {
    "name": "ipython",
    "version": 2
   },
   "file_extension": ".py",
   "mimetype": "text/x-python",
   "name": "python",
   "nbconvert_exporter": "python",
   "pygments_lexer": "ipython2",
   "version": "2.7.12"
  }
 },
 "nbformat": 4,
 "nbformat_minor": 2
}
