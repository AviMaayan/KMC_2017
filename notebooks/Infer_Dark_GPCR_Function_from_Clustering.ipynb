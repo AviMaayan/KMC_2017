{
 "cells": [
  {
   "cell_type": "markdown",
   "metadata": {
    "deletable": true,
    "editable": true
   },
   "source": [
    "# Infer Dark GPCR Function from Clustering\n",
    "This notebook will infer 'dark' GPCR function based on hierarchical clustering with kinases that have known functions. We will cluster GCPRs based on their expression in the CCLE. We will begin by importing required libraries and defining a few functions for later use. "
   ]
  },
  {
   "cell_type": "code",
   "execution_count": 1,
   "metadata": {
    "collapsed": true,
    "deletable": true,
    "editable": true
   },
   "outputs": [],
   "source": [
    "import pandas as pd\n",
    "from clustergrammer_widget import *\n",
    "from scipy.spatial.distance import pdist, squareform\n",
    "from copy import deepcopy\n",
    "net = Network()"
   ]
  },
  {
   "cell_type": "code",
   "execution_count": 2,
   "metadata": {
    "collapsed": true,
    "deletable": true,
    "editable": true
   },
   "outputs": [],
   "source": [
    "gene_info = net.load_json_to_dict('../grant_pois/gene_info_with_dark.json')\n",
    "net.load_file('../hzome_data/my_CCLE_exp.txt')\n",
    "ccle = net.export_df()"
   ]
  },
  {
   "cell_type": "code",
   "execution_count": 3,
   "metadata": {
    "collapsed": true,
    "deletable": true,
    "editable": true
   },
   "outputs": [],
   "source": [
    "def add_cats(gene_class, genes):\n",
    "    ''' Add categories to list of genes '''    \n",
    "    gene_title = class_titles[gene_class]\n",
    "    genes_cat = []\n",
    "    for inst_gene in genes:\n",
    "        inst_tuple = ()\n",
    "        inst_name = gene_title + ': ' + inst_gene\n",
    "        if inst_gene in gene_info[gene_class]['dark']:\n",
    "          inst_cat = 'Dark Gene: True'\n",
    "        else:\n",
    "          inst_cat = 'Dark Gene: False'\n",
    "        inst_tuple = (inst_name, inst_cat)\n",
    "        genes_cat.append( inst_tuple )\n",
    "    return genes_cat\n",
    "\n",
    "def filter_genes(ccle, gene_class):\n",
    "    ''' Filter DataFrame to selected gene class '''\n",
    "    ccle = ccle.transpose()\n",
    "    all_genes = ccle.columns.tolist()\n",
    "    all_gene_class = gene_info[gene_class]['all']\n",
    "    found_genes = sorted(list(set(all_genes).intersection(all_gene_class)))\n",
    "    ccle_filt = ccle[found_genes]\n",
    "    ccle_filt = ccle_filt.transpose()\n",
    "    return ccle_filt\n",
    "\n",
    "class_titles = {}\n",
    "class_titles['KIN'] = 'Kinases'\n",
    "class_titles['IC'] = 'Ion Channels'\n",
    "class_titles['GPCR'] = 'GPCRs'"
   ]
  },
  {
   "cell_type": "markdown",
   "metadata": {
    "deletable": true,
    "editable": true
   },
   "source": [
    "### Calculate GPCR Similarity Matrix based on CCLE Expression\n",
    "We will first filter the CCLE gene expression data for GPCRs. Then we will calculate a GPCR-GPCR similarity matrix based on CCLE expression and visualizze it using Clustergrammer. "
   ]
  },
  {
   "cell_type": "code",
   "execution_count": 6,
   "metadata": {
    "collapsed": false,
    "deletable": true,
    "editable": true
   },
   "outputs": [],
   "source": [
    "ccle_gpcr = filter_genes(ccle, 'GPCR')\n",
    "net.load_df(ccle_gpcr)"
   ]
  },
  {
   "cell_type": "markdown",
   "metadata": {
    "deletable": true,
    "editable": true
   },
   "source": [
    "Calculate Similarity Matrix"
   ]
  },
  {
   "cell_type": "code",
   "execution_count": 5,
   "metadata": {
    "collapsed": true,
    "deletable": true,
    "editable": true
   },
   "outputs": [],
   "source": [
    "net.normalize(axis='row', norm_type='zscore', keep_orig=False)\n",
    "ccle_gpcr = net.export_df()"
   ]
  },
  {
   "cell_type": "code",
   "execution_count": 6,
   "metadata": {
    "collapsed": true,
    "deletable": true,
    "editable": true
   },
   "outputs": [],
   "source": [
    "inst_dm = pdist(ccle_gpcr, metric='cosine')\n",
    "inst_dm = squareform(inst_dm)\n",
    "inst_dm = 1 - inst_dm\n",
    "sim_cutoff = 0.15\n",
    "inst_dm[ abs(inst_dm) < sim_cutoff] = 0"
   ]
  },
  {
   "cell_type": "code",
   "execution_count": 7,
   "metadata": {
    "collapsed": false,
    "deletable": true,
    "editable": true
   },
   "outputs": [],
   "source": [
    "genes = ccle_gpcr.index.tolist()\n",
    "genes_cat = add_cats('GPCR', genes)\n",
    "df_dm = pd.DataFrame(data=inst_dm, columns=genes_cat, index=genes_cat)\n",
    "df_dm_copy = deepcopy(df_dm)\n",
    "net.load_df(df_dm)\n",
    "net.make_clust(views=[])"
   ]
  },
  {
   "cell_type": "markdown",
   "metadata": {
    "deletable": true,
    "editable": true
   },
   "source": [
    "## Visualize Ion Channel Similarity Matrix based on CCLE Expression"
   ]
  },
  {
   "cell_type": "code",
   "execution_count": 8,
   "metadata": {
    "collapsed": false,
    "deletable": true,
    "editable": true
   },
   "outputs": [
    {
     "data": {
      "application/vnd.jupyter.widget-view+json": {
       "model_id": "a4c4a73cb250468a8d8009e3b747a1b9"
      }
     },
     "metadata": {},
     "output_type": "display_data"
    }
   ],
   "source": [
    "clustergrammer_widget(network=net.widget())"
   ]
  },
  {
   "cell_type": "markdown",
   "metadata": {
    "deletable": true,
    "editable": true
   },
   "source": [
    "We see about four well-defined clusters (at level 4 of the dendrogram) of GPCR with similar expresssion across the CCLE. I have included Enrichr links for each of the six clusters. \n",
    "\n",
    "### Enrichr Links for Six Clusters identified from GPCR-CCLE Clustering\n",
    "Level 4 Groups\n",
    "* Cluster 1: https://amp.pharm.mssm.edu/Enrichr/enrich?dataset=1c2hg\n",
    "* Cluster 2: https://amp.pharm.mssm.edu/Enrichr/enrich?dataset=1c2hh\n",
    "* Cluster 3: https://amp.pharm.mssm.edu/Enrichr/enrich?dataset=1c2hi\n",
    "* Cluster 4: https://amp.pharm.mssm.edu/Enrichr/enrich?dataset=1c2hj\n",
    "\n",
    "Enrichment for terms from the KEGG 2016 and Wikipathways 2016 libraries appeared to show a distinct function for the third cluster.\n",
    "\n",
    "\n",
    "### Cluster 3: Immune Pathway Enrichment\n",
    "Cluster-3 showed enrichment for immune related pathways (e.g. chemokine-cytokine signaling) using the KEGG and Panther libraries: see Cluster-3 link above and enrichment results below: \n",
    "\n",
    "![GPCR_CCLE_cluster_3_KEGG_chemokine](GPCR_CCLE_cluster_3_KEGG_chemokine.png)\n",
    "![GPCR_CCLE_cluster_3_Panther_chemokine](GPCR_CCLE_cluster_3_Panther_chemokine.png)\n",
    "\n",
    "Below, we will look more closely into this cluster."
   ]
  },
  {
   "cell_type": "markdown",
   "metadata": {
    "deletable": true,
    "editable": true
   },
   "source": [
    "# Cluster 3: Immune Pathway\n",
    "Here, we are going to focus on Cluster-3, which is enriched for immune related pathways. Below we have extracted the names of these GPCRs from Cluster-3 (using the interactive dendrogram):"
   ]
  },
  {
   "cell_type": "code",
   "execution_count": 15,
   "metadata": {
    "collapsed": false,
    "deletable": true,
    "editable": true
   },
   "outputs": [],
   "source": [
    "clust_names = \n",
    "clust_names_cat = add_cats('GPCR', clust_names)\n",
    "\n",
    "df_dm = deepcopy(df_dm_copy)\n",
    "\n",
    "df_dm = df_dm[clust_names_cat]\n",
    "df_dm = df_dm.transpose()\n",
    "df_dm = df_dm[clust_names_cat]\n",
    "\n",
    "net.load_df(df_dm)\n",
    "net.make_clust(views=[])"
   ]
  },
  {
   "cell_type": "markdown",
   "metadata": {
    "deletable": true,
    "editable": true
   },
   "source": [
    "## Cluster 3: Immune Pathway Similarity Matrix"
   ]
  },
  {
   "cell_type": "code",
   "execution_count": 16,
   "metadata": {
    "collapsed": false,
    "deletable": true,
    "editable": true
   },
   "outputs": [
    {
     "data": {
      "application/vnd.jupyter.widget-view+json": {
       "model_id": "0883ecdbe3144b87b77cc413bbb9ed1a"
      }
     },
     "metadata": {},
     "output_type": "display_data"
    }
   ],
   "source": [
    "clustergrammer_widget(network=net.widget())"
   ]
  },
  {
   "cell_type": "markdown",
   "metadata": {
    "deletable": true,
    "editable": true
   },
   "source": [
    "Cluster-3 above includes several dark GPCRs (shown with the orange category) and based on co-expression and enrichment analysis we can conclude that these dark genes may be involved in addiction. \n",
    "\n",
    "### Get expression data\n",
    "Here we will show the specific cell lines and tissue-types that these genes are commonly highly or lowly expresssed. Below we show the 100 cell lines with the highest or lowest expression of these genes. "
   ]
  },
  {
   "cell_type": "code",
   "execution_count": 17,
   "metadata": {
    "collapsed": true,
    "deletable": true,
    "editable": true
   },
   "outputs": [],
   "source": [
    "ccle_gpcr = ccle_gpcr.transpose()\n",
    "ccle_gpcr_cluster = ccle_gpcr[clust_names]\n",
    "ccle_gpcr = ccle_gpcr.transpose()\n",
    "ccle_gpcr_cluster = ccle_gpcr_cluster.transpose()"
   ]
  },
  {
   "cell_type": "code",
   "execution_count": 18,
   "metadata": {
    "collapsed": false,
    "deletable": true,
    "editable": true
   },
   "outputs": [],
   "source": [
    "tmp_rows = ccle_gpcr_cluster.index.tolist()\n",
    "tmp_rows = add_cats(gene_class='GPCR', genes=tmp_rows)\n",
    "ccle_gpcr_cluster.index = tmp_rows\n",
    "\n",
    "net.load_df(ccle_gpcr_cluster)\n",
    "net.filter_N_top('col', 100, rank_type='sum')\n",
    "net.make_clust()"
   ]
  },
  {
   "cell_type": "markdown",
   "metadata": {
    "deletable": true,
    "editable": true
   },
   "source": [
    "## Cluster 3: Addiction Pathway Expression Data"
   ]
  },
  {
   "cell_type": "code",
   "execution_count": 19,
   "metadata": {
    "collapsed": false,
    "deletable": true,
    "editable": true
   },
   "outputs": [
    {
     "data": {
      "application/vnd.jupyter.widget-view+json": {
       "model_id": "4a7ec383a8984ff9914bf1662c48d82d"
      }
     },
     "metadata": {},
     "output_type": "display_data"
    }
   ],
   "source": [
    "clustergrammer_widget(network=net.widget())"
   ]
  },
  {
   "cell_type": "markdown",
   "metadata": {
    "deletable": true,
    "editable": true
   },
   "source": [
    "[Dicsussion of gene expression results]"
   ]
  },
  {
   "cell_type": "code",
   "execution_count": null,
   "metadata": {
    "collapsed": true,
    "deletable": true,
    "editable": true
   },
   "outputs": [],
   "source": []
  }
 ],
 "metadata": {
  "kernelspec": {
   "display_name": "Python [Root]",
   "language": "python",
   "name": "Python [Root]"
  },
  "language_info": {
   "codemirror_mode": {
    "name": "ipython",
    "version": 2
   },
   "file_extension": ".py",
   "mimetype": "text/x-python",
   "name": "python",
   "nbconvert_exporter": "python",
   "pygments_lexer": "ipython2",
   "version": "2.7.12"
  },
  "widgets": {
   "application/vnd.jupyter.widget-state+json": {
    "state": {},
    "version_major": 1,
    "version_minor": 0
   }
  }
 },
 "nbformat": 4,
 "nbformat_minor": 2
}
