{
 "cells": [
  {
   "cell_type": "markdown",
   "metadata": {
    "deletable": true,
    "editable": true
   },
   "source": [
    "# Infer GPCR Function from Clustering\n",
    "This notebook will infer 'dark' GPCR"
   ]
  },
  {
   "cell_type": "markdown",
   "metadata": {
    "deletable": true,
    "editable": true
   },
   "source": [
    "Level 4 Groups\n",
    "* group 1: https://amp.pharm.mssm.edu/Enrichr/enrich?dataset=1c2hg\n",
    "* group 2: https://amp.pharm.mssm.edu/Enrichr/enrich?dataset=1c2hh\n",
    "* group 3: https://amp.pharm.mssm.edu/Enrichr/enrich?dataset=1c2hi\n",
    "* group 4: https://amp.pharm.mssm.edu/Enrichr/enrich?dataset=1c2hj\n",
    "\n",
    "Level 5 Groups\n",
    "* group 1: https://amp.pharm.mssm.edu/Enrichr/enrich?dataset=1bqb0\n",
    "* group 2: https://amp.pharm.mssm.edu/Enrichr/enrich?dataset=1bqb1\n",
    "* group 3: https://amp.pharm.mssm.edu/Enrichr/enrich?dataset=1bqb2\n",
    "* group 4: https://amp.pharm.mssm.edu/Enrichr/enrich?dataset=1bqb4"
   ]
  },
  {
   "cell_type": "code",
   "execution_count": null,
   "metadata": {
    "collapsed": true,
    "deletable": true,
    "editable": true
   },
   "outputs": [],
   "source": []
  }
 ],
 "metadata": {
  "anaconda-cloud": {},
  "kernelspec": {
   "display_name": "Python [Root]",
   "language": "python",
   "name": "Python [Root]"
  },
  "language_info": {
   "codemirror_mode": {
    "name": "ipython",
    "version": 2
   },
   "file_extension": ".py",
   "mimetype": "text/x-python",
   "name": "python",
   "nbconvert_exporter": "python",
   "pygments_lexer": "ipython2",
   "version": "2.7.12"
  }
 },
 "nbformat": 4,
 "nbformat_minor": 2
}
